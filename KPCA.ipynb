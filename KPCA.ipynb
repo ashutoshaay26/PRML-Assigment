{
 "cells": [
  {
   "cell_type": "code",
   "execution_count": 2,
   "metadata": {},
   "outputs": [
    {
     "ename": "ModuleNotFoundError",
     "evalue": "No module named 'seaborn'",
     "output_type": "error",
     "traceback": [
      "\u001b[1;31m---------------------------------------------------------------------------\u001b[0m",
      "\u001b[1;31mModuleNotFoundError\u001b[0m                       Traceback (most recent call last)",
      "\u001b[1;32m<ipython-input-2-910f1e643c34>\u001b[0m in \u001b[0;36m<module>\u001b[1;34m\u001b[0m\n\u001b[0;32m      2\u001b[0m \u001b[1;32mimport\u001b[0m \u001b[0mscipy\u001b[0m \u001b[1;32mas\u001b[0m \u001b[0msp\u001b[0m\u001b[1;33m\u001b[0m\u001b[0m\n\u001b[0;32m      3\u001b[0m \u001b[1;32mimport\u001b[0m \u001b[0mmatplotlib\u001b[0m\u001b[1;33m.\u001b[0m\u001b[0mpyplot\u001b[0m \u001b[1;32mas\u001b[0m \u001b[0mplt\u001b[0m\u001b[1;33m\u001b[0m\u001b[0m\n\u001b[1;32m----> 4\u001b[1;33m \u001b[1;32mimport\u001b[0m \u001b[0mseaborn\u001b[0m \u001b[1;32mas\u001b[0m \u001b[0mse\u001b[0m\u001b[1;33m\u001b[0m\u001b[0m\n\u001b[0m",
      "\u001b[1;31mModuleNotFoundError\u001b[0m: No module named 'seaborn'"
     ]
    }
   ],
   "source": [
    "import numpy as np\n",
    "import scipy as sp\n",
    "import matplotlib.pyplot as plt\n",
    "#import seaborn as se"
   ]
  },
  {
   "cell_type": "code",
   "execution_count": 18,
   "metadata": {},
   "outputs": [],
   "source": [
    "# Calculate Variance\n",
    "def cal_variance(a):\n",
    "    '''\n",
    "    Input : a is dxd numpy matrix\n",
    "    Output : A variance vector of dimention d\n",
    "    '''\n",
    "    n,d = np.shape(a)\n",
    "    mean_matrix = np.ones((n,d)) * cal_mean(a)\n",
    "    variance =(1/n)* np.diag(np.transpose(a-mean_matrix).dot(a-mean_matrix))\n",
    "    return variance"
   ]
  },
  {
   "cell_type": "code",
   "execution_count": 20,
   "metadata": {},
   "outputs": [],
   "source": [
    "#Calculate Covariance Matrix\n",
    "def cal_covariance(a):\n",
    "    '''\n",
    "    Input : a is nxd numpy matrix\n",
    "    Output : A covariance matrix of dimention dxd\n",
    "    '''\n",
    "    n,d = np.shape(a)\n",
    "    mean_matrix = np.ones((n,d))*cal_mean(a)\n",
    "    co_var = (1/(n-1)) * (np.transpose(a-mean_matrix).dot(a-mean_matrix))\n",
    "    return co_var"
   ]
  },
  {
   "cell_type": "code",
   "execution_count": 11,
   "metadata": {},
   "outputs": [],
   "source": [
    "#Calculate Mean\n",
    "def cal_mean(a):\n",
    "    '''\n",
    "    Input : a is nxd numpy matrix\n",
    "    Output : A mean vector of dimention d\n",
    "    '''\n",
    "    n,d = np.shape(a)\n",
    "    #print(n,d)\n",
    "    mean = np.sum(a,axis=0) / n\n",
    "    return(mean)"
   ]
  },
  {
   "cell_type": "code",
   "execution_count": 26,
   "metadata": {},
   "outputs": [],
   "source": [
    "#Calculate Kernel A given in Assignment\n",
    "def kernel_A(x,y,d):\n",
    "    temp = x.T.dot(y)\n",
    "    return((1+temp)**d)"
   ]
  },
  {
   "cell_type": "code",
   "execution_count": 27,
   "metadata": {},
   "outputs": [],
   "source": [
    "#Calculate Kernel B given in Assignment\n",
    "def kernel_B(x,y,sigma):\n",
    "    temp = (-1 * ((x-y).T.dot(x-y))) / (2*sigma**2)\n",
    "    return(np.exp(temp))"
   ]
  },
  {
   "cell_type": "code",
   "execution_count": null,
   "metadata": {},
   "outputs": [],
   "source": [
    "# Main function of PCA\n",
    "def pca(x):\n",
    "    pass"
   ]
  },
  {
   "cell_type": "code",
   "execution_count": null,
   "metadata": {},
   "outputs": [],
   "source": [
    "# Main function of KPCA\n",
    "def kpca(x):\n",
    "    pass"
   ]
  },
  {
   "cell_type": "code",
   "execution_count": 25,
   "metadata": {},
   "outputs": [
    {
     "name": "stdout",
     "output_type": "stream",
     "text": [
      "3 3\n",
      "[[  42.33333333   23.33333333  -62.16666667]\n",
      " [  23.33333333   16.33333333  -15.16666667]\n",
      " [ -62.16666667  -15.16666667  196.33333333]]\n",
      "[[  42.33333333   23.33333333  -62.16666667]\n",
      " [  23.33333333   16.33333333  -15.16666667]\n",
      " [ -62.16666667  -15.16666667  196.33333333]]\n",
      "9\n"
     ]
    }
   ],
   "source": [
    "if __name__ == \"__main__\":\n",
    "    a=np.array([[1,2,3],[8,9,10],[-5,2,30]])\n",
    "    print(cal_covariance(a))\n",
    "    print(np.cov(a.T))\n",
    "    print(3**2)"
   ]
  },
  {
   "cell_type": "code",
   "execution_count": null,
   "metadata": {},
   "outputs": [],
   "source": []
  }
 ],
 "metadata": {
  "kernelspec": {
   "display_name": "Python 3",
   "language": "python",
   "name": "python3"
  },
  "language_info": {
   "codemirror_mode": {
    "name": "ipython",
    "version": 3
   },
   "file_extension": ".py",
   "mimetype": "text/x-python",
   "name": "python",
   "nbconvert_exporter": "python",
   "pygments_lexer": "ipython3",
   "version": "3.6.0"
  }
 },
 "nbformat": 4,
 "nbformat_minor": 2
}
